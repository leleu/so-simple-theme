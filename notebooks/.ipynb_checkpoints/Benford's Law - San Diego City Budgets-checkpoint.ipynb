{
 "cells": [
  {
   "cell_type": "markdown",
   "metadata": {},
   "source": [
    "# Benford's Law Applied to San Diego City Budgets\n",
    "\n",
    "This is a prototype, only covering FY11 data.\n",
    "Next steps: retrieve 2011-2018 datam, analyze, aggregate, and chart.  Then write it up."
   ]
  },
  {
   "cell_type": "code",
   "execution_count": 1,
   "metadata": {
    "collapsed": true
   },
   "outputs": [],
   "source": [
    "from urllib.request import urlretrieve\n",
    "import pandas as pd\n",
    "from collections import Counter\n",
    "from pprint import pprint\n",
    "import os"
   ]
  },
  {
   "cell_type": "code",
   "execution_count": 2,
   "metadata": {},
   "outputs": [
    {
     "name": "stdout",
     "output_type": "stream",
     "text": [
      "retrieving FY11\n",
      "retrieving FY12\n",
      "retrieving FY13\n",
      "retrieving FY14\n",
      "retrieving FY15\n",
      "retrieving FY16\n",
      "retrieving FY17\n",
      "retrieving FY18\n"
     ]
    }
   ],
   "source": [
    "fn = 'operating_budget_FY{0}_datasd.csv'\n",
    "base = 'http://seshat.datasd.org/budget/{0}'.format( fn )\n",
    "datapath = './data/sdcity_benford/'\n",
    "\n",
    "for year in range(11,19):\n",
    "    dataurl = base.format( year )\n",
    "    fn_ = fn.format( year )\n",
    "    if not os.path.exists( datapath+fn_ ):\n",
    "        print( 'retrieving FY{0}'.format( year ) )\n",
    "        urlretrieve(dataurl,  datapath+fn_ )\n",
    "    else:\n",
    "        print ('FY{0} data on disk already'.format( year ) )"
   ]
  },
  {
   "cell_type": "code",
   "execution_count": 3,
   "metadata": {
    "collapsed": true
   },
   "outputs": [],
   "source": [
    "def get_yearly_benford( df ):\n",
    "    amounts = df['amount']\n",
    "    ctr = Counter()\n",
    "    total = df[df['amount']>0]['amount'].count()\n",
    "    for a in amounts:\n",
    "        if a>0:\n",
    "            digit = a.astype(str)[0]\n",
    "        try:\n",
    "            ctr[int(digit)]+=1\n",
    "        except UnboundLocalError:\n",
    "            pprint( a )\n",
    "        \n",
    "    pct = {}\n",
    "    raw = {}\n",
    "    for digit, ct in ctr.items():\n",
    "        pct[digit] = ct/total\n",
    "        raw[digit] = ct\n",
    "        \n",
    "    return {\n",
    "        'distributions' : pct,\n",
    "        'count' : total,\n",
    "        'raw_counts' : raw\n",
    "    }\n",
    "            "
   ]
  },
  {
   "cell_type": "code",
   "execution_count": 4,
   "metadata": {},
   "outputs": [
    {
     "name": "stdout",
     "output_type": "stream",
     "text": [
      "-2512.0\n"
     ]
    }
   ],
   "source": [
    "data = {}\n",
    "for year in range(11,19):\n",
    "    df = pd.read_csv( 'data/sdcity_benford/operating_budget_FY{0}_datasd.csv'.format( year ) )\n",
    "    data[year] = get_yearly_benford( df )"
   ]
  },
  {
   "cell_type": "code",
   "execution_count": 18,
   "metadata": {},
   "outputs": [
    {
     "data": {
      "text/plain": [
       "dict_items([(2, 0.18851894374282435), (6, 0.064129899950795474), (3, 0.13088404133180254), (5, 0.094800721666393306), (1, 0.31133344267672625), (7, 0.056191569624405448), (4, 0.093258979826144006), (8, 0.045235361653272098), (9, 0.044644907331474498)])"
      ]
     },
     "execution_count": 18,
     "metadata": {},
     "output_type": "execute_result"
    }
   ],
   "source": [
    "data[11]['distributions'].items()"
   ]
  }
 ],
 "metadata": {
  "kernelspec": {
   "display_name": "Python 3",
   "language": "python",
   "name": "python3"
  },
  "language_info": {
   "codemirror_mode": {
    "name": "ipython",
    "version": 3
   },
   "file_extension": ".py",
   "mimetype": "text/x-python",
   "name": "python",
   "nbconvert_exporter": "python",
   "pygments_lexer": "ipython3",
   "version": "3.6.3"
  }
 },
 "nbformat": 4,
 "nbformat_minor": 2
}
