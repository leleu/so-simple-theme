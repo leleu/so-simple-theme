{
 "cells": [
  {
   "cell_type": "markdown",
   "metadata": {},
   "source": [
    "# Benford's Law Applied to San Diego City Budgets\n",
    "\n",
    "This is a prototype, only covering FY11 data.\n",
    "Next steps: retrieve 2011-2018 datam, analyze, aggregate, and chart.  Then write it up."
   ]
  },
  {
   "cell_type": "code",
   "execution_count": 30,
   "metadata": {
    "collapsed": true
   },
   "outputs": [],
   "source": [
    "%matplotlib inline"
   ]
  },
  {
   "cell_type": "code",
   "execution_count": 32,
   "metadata": {
    "collapsed": true
   },
   "outputs": [],
   "source": [
    "from urllib.request import urlretrieve\n",
    "import pandas as pd\n",
    "from collections import Counter\n",
    "from pprint import pprint\n",
    "import os\n",
    "import seaborn as sns\n",
    "from matplotlib import pyplot as plt"
   ]
  },
  {
   "cell_type": "code",
   "execution_count": 63,
   "metadata": {
    "collapsed": true
   },
   "outputs": [],
   "source": [
    "benfords_distribution = [30.1,17.6,12.5,9.7,7.9,6.7,5.8,5.1,4.6]"
   ]
  },
  {
   "cell_type": "code",
   "execution_count": 2,
   "metadata": {},
   "outputs": [
    {
     "name": "stdout",
     "output_type": "stream",
     "text": [
      "retrieving FY11\n",
      "retrieving FY12\n",
      "retrieving FY13\n",
      "retrieving FY14\n",
      "retrieving FY15\n",
      "retrieving FY16\n",
      "retrieving FY17\n",
      "retrieving FY18\n"
     ]
    }
   ],
   "source": [
    "fn = 'operating_budget_FY{0}_datasd.csv'\n",
    "base = 'http://seshat.datasd.org/budget/{0}'.format( fn )\n",
    "datapath = './data/sdcity_benford/'\n",
    "\n",
    "for year in range(11,19):\n",
    "    dataurl = base.format( year )\n",
    "    fn_ = fn.format( year )\n",
    "    if not os.path.exists( datapath+fn_ ):\n",
    "        print( 'retrieving FY{0}'.format( year ) )\n",
    "        urlretrieve(dataurl,  datapath+fn_ )\n",
    "    else:\n",
    "        print ('FY{0} data on disk already'.format( year ) )"
   ]
  },
  {
   "cell_type": "code",
   "execution_count": 3,
   "metadata": {
    "collapsed": true
   },
   "outputs": [],
   "source": [
    "def get_yearly_benford( df ):\n",
    "    amounts = df['amount']\n",
    "    ctr = Counter()\n",
    "    total = df[df['amount']>0]['amount'].count()\n",
    "    for a in amounts:\n",
    "        if a>0:\n",
    "            digit = a.astype(str)[0]\n",
    "        try:\n",
    "            ctr[int(digit)]+=1\n",
    "        except UnboundLocalError:\n",
    "            pprint( a )\n",
    "        \n",
    "    pct = {}\n",
    "    raw = {}\n",
    "    for digit, ct in ctr.items():\n",
    "        pct[digit] = ct/total\n",
    "        raw[digit] = ct\n",
    "        \n",
    "    return {\n",
    "        'distributions' : pct,\n",
    "        'count' : total,\n",
    "        'raw_counts' : raw\n",
    "    }\n",
    "            "
   ]
  },
  {
   "cell_type": "code",
   "execution_count": 4,
   "metadata": {},
   "outputs": [
    {
     "name": "stdout",
     "output_type": "stream",
     "text": [
      "-2512.0\n"
     ]
    }
   ],
   "source": [
    "data = {}\n",
    "for year in range(11,19):\n",
    "    df = pd.read_csv( 'data/sdcity_benford/operating_budget_FY{0}_datasd.csv'.format( year ) )\n",
    "    data[year] = get_yearly_benford( df )"
   ]
  },
  {
   "cell_type": "code",
   "execution_count": 71,
   "metadata": {},
   "outputs": [],
   "source": [
    "year = 11\n",
    "d = data[year]['distributions']\n",
    "sk = sorted(d.keys())\n",
    "arr = []\n",
    "for k in sk:\n",
    "    arr.append(d[k]*100)\n",
    "    "
   ]
  },
  {
   "cell_type": "code",
   "execution_count": 76,
   "metadata": {},
   "outputs": [
    {
     "data": {
      "text/plain": [
       "<matplotlib.legend.Legend at 0x1a143934a8>"
      ]
     },
     "execution_count": 76,
     "metadata": {},
     "output_type": "execute_result"
    },
    {
     "data": {
      "image/png": "[encoded data removed]",
      "text/plain": [
       "<matplotlib.figure.Figure at 0x1a1424ec88>"
      ]
     },
     "metadata": {},
     "output_type": "display_data"
    }
   ],
   "source": [
    "# sns.lmplot(x=df.Attack, y=df.Defense)\n",
    "plt.style.use('seaborn-talk')\n",
    "plt.rc('figure', figsize=(10, 5))\n",
    "plt.xlabel('Leading Digit')\n",
    "plt.ylabel('Frequency (%)')\n",
    "plt.bar( sk, arr, label='FY{0} Distribution'.format( year ) )\n",
    "plt.plot( sk, benfords_distribution, 'r', label='Ideal Benford Distribution' )\n",
    "plt.legend(loc='upper right')"
   ]
  },
  {
   "cell_type": "code",
   "execution_count": 56,
   "metadata": {},
   "outputs": [],
   "source": []
  },
  {
   "cell_type": "code",
   "execution_count": 43,
   "metadata": {},
   "outputs": [
    {
     "data": {
      "text/plain": [
       "['_classic_test',\n",
       " 'bmh',\n",
       " 'classic',\n",
       " 'dark_background',\n",
       " 'fast',\n",
       " 'fivethirtyeight',\n",
       " 'ggplot',\n",
       " 'grayscale',\n",
       " 'seaborn-bright',\n",
       " 'seaborn-colorblind',\n",
       " 'seaborn-dark-palette',\n",
       " 'seaborn-dark',\n",
       " 'seaborn-darkgrid',\n",
       " 'seaborn-deep',\n",
       " 'seaborn-muted',\n",
       " 'seaborn-notebook',\n",
       " 'seaborn-paper',\n",
       " 'seaborn-pastel',\n",
       " 'seaborn-poster',\n",
       " 'seaborn-talk',\n",
       " 'seaborn-ticks',\n",
       " 'seaborn-white',\n",
       " 'seaborn-whitegrid',\n",
       " 'seaborn',\n",
       " 'Solarize_Light2']"
      ]
     },
     "execution_count": 43,
     "metadata": {},
     "output_type": "execute_result"
    }
   ],
   "source": [
    "plt.style.available"
   ]
  }
 ],
 "metadata": {
  "kernelspec": {
   "display_name": "Python 3",
   "language": "python",
   "name": "python3"
  },
  "language_info": {
   "codemirror_mode": {
    "name": "ipython",
    "version": 3
   },
   "file_extension": ".py",
   "mimetype": "text/x-python",
   "name": "python",
   "nbconvert_exporter": "python",
   "pygments_lexer": "ipython3",
   "version": "3.6.3"
  }
 },
 "nbformat": 4,
 "nbformat_minor": 2
}
